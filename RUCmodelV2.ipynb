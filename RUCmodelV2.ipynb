{
 "cells": [
  {
   "cell_type": "code",
   "execution_count": null,
   "id": "e6fd72a2-c96b-498b-82d6-59fa00864b81",
   "metadata": {},
   "outputs": [],
   "source": [
    "import os\n",
    "import json\n",
    "import warnings\n",
    "import configparser\n",
    "\n",
    "import joblib\n",
    "import numpy as np\n",
    "import pandas as pd\n",
    "from tqdm import tqdm\n",
    "from Crypto.Cipher import AES\n",
    "from sqlalchemy import create_engine\n",
    "\n",
    "import utils\n",
    "import config\n",
    "\n",
    "warnings.filterwarnings(\"ignore\")\n",
    "\n",
    "cipher = AES.new(config.DB_SETTING['encrypt_key'],\n",
    "                 AES.MODE_CFB,\n",
    "                 config.DB_SETTING['encrypt_msg'][:16])\n",
    "decrypt_msg = cipher.decrypt(config.DB_SETTING['encrypt_msg'][16:]).decode('utf-8')\n",
    "\n",
    "config_dict = {\n",
    "    \"driver\": \"ODBC+Driver+17+for+SQL+Server\",\n",
    "    \"database\": config.DB_SETTING[\"database\"],\n",
    "    \"host\": config.DB_SETTING[\"host\"],\n",
    "    \"port\": config.DB_SETTING[\"port\"],\n",
    "    \"user\": config.DB_SETTING[\"user\"],\n",
    "    \"passwd\": decrypt_msg\n",
    "}\n",
    "URI = 'mssql+pyodbc://{user}:{passwd}@{host}:{port}\\\n",
    "/{database}?driver={driver}'.format(**config_dict)"
   ]
  },
  {
   "cell_type": "code",
   "execution_count": null,
   "id": "42370659-fc6c-4199-9cd3-fca4f357fa2f",
   "metadata": {},
   "outputs": [],
   "source": [
    "def get_data_generator(conn):\n",
    "    data_gen = pd.read_sql_table(\"info_trans\", con=conn, chunksize=100)\n",
    "    return data_gen\n",
    "\n",
    "def loadgamedata(x):\n",
    "    with create_engine(URI).connect() as conn:\n",
    "        data_game = pd.read_sql(\"select * from info_game with (nolock) where trans_id =\"+str(x), con=conn)\n",
    "        return data_game\n",
    "    \n",
    "def main():\n",
    "    with create_engine(URI).connect() as conn:\n",
    "        gen = get_data_generator(conn)\n",
    "        for data in tqdm(gen):\n",
    "            #pop\n",
    "            for col in data.columns:\n",
    "                if data[col].dtype != float and col not in config.EXCEPTION_FEATURE_LIST:\n",
    "                    data[col].fillna(value=\"\", inplace=True)\n",
    "                else:\n",
    "                    data[col].fillna(value=np.nan,inplace=True)\n",
    "#             print(data.trans_id.unique())\n",
    "            for x in data.trans_id.unique():\n",
    "#                 print(x)\n",
    "                if x ==data.trans_id.unique()[0]:\n",
    "                    data_ga = loadgamedata(x)\n",
    "                    #pop\n",
    "                    data_ga[\"ticket_status\"] = data_ga[\"ticket_status\"].str.replace(' ','')\n",
    "                    data_ga[\"home_score\"] = data_ga[\"home_score\"].fillna(0)\n",
    "                    data_ga[\"away_score\"] = data_ga[\"away_score\"].fillna(0)\n",
    "                else:\n",
    "                    tmp = loadgamedata(x)\n",
    "                    #pop\n",
    "                    tmp[\"ticket_status\"] = tmp[\"ticket_status\"].str.replace(' ','')\n",
    "                    tmp[\"home_score\"] = tmp[\"home_score\"].fillna(0)\n",
    "                    tmp[\"away_score\"] = tmp[\"away_score\"].fillna(0)\n",
    "                    data_ga=pd.concat([data_ga,tmp])\n",
    "            inputs={'trans': data, 'games': data_ga}\n",
    "            return inputs\n",
    "\n",
    "#             loss_object = tf.keras.losses.BinaryCrossentropy()\n",
    "#             ruc = rucmodel()\n",
    "#             ruc.compile(optimizer='adam',\n",
    "#                           loss=loss_object,\n",
    "#                           metrics=['accuracy'])\n",
    "#             ruc.fit(trans_data, y_train, epochs=30)"
   ]
  },
  {
   "cell_type": "code",
   "execution_count": null,
   "id": "50b4390d-cb4a-4d1f-89d4-2a065027e961",
   "metadata": {},
   "outputs": [],
   "source": [
    "%%time\n",
    "rawdata=main()"
   ]
  },
  {
   "cell_type": "code",
   "execution_count": null,
   "id": "291cc8bb-9ced-4db9-8ab3-fdec308543f7",
   "metadata": {},
   "outputs": [],
   "source": [
    "len(rawdata1['trans'].trans_id.unique())"
   ]
  },
  {
   "cell_type": "code",
   "execution_count": null,
   "id": "d2ab947f-2dc9-4f00-be03-43847d3fbeb3",
   "metadata": {},
   "outputs": [],
   "source": [
    "rawdata1 = rawdata"
   ]
  },
  {
   "cell_type": "code",
   "execution_count": null,
   "id": "0e100765-dd4e-4cd1-a476-9c31408a666c",
   "metadata": {},
   "outputs": [],
   "source": [
    "feature_col = config.XGB_FEATURE_COLUMNNAME\n",
    "tranformer_train = utils.DataTransformer(data=rawdata1['trans'],feature_colname=feature_col)\n",
    "data_trans = tranformer_train.transform()"
   ]
  },
  {
   "cell_type": "code",
   "execution_count": null,
   "id": "1e889bcf-714b-4a0b-bba0-472b7765aa9e",
   "metadata": {},
   "outputs": [],
   "source": [
    "tranformer_train.idx_false"
   ]
  },
  {
   "cell_type": "code",
   "execution_count": null,
   "id": "5340a3dd-4ff0-4324-9e99-3c100000dbe4",
   "metadata": {},
   "outputs": [],
   "source": [
    "import numpy as np\n",
    "import pandas as pd\n",
    "import fasttext as ft\n",
    "import tensorflow as tf\n",
    "import tensorflow_addons as tfa\n",
    "\n",
    "import config\n",
    "import utils\n",
    "\n",
    "class rucmodel(tf.keras.models.Model):\n",
    "    \n",
    "    def __init__(self):\n",
    "        super(rucmodel, self).__init__()\n",
    "        self.dense_layer = tf.keras.layers.Dense(25, activation='relu')\n",
    "        self.dense_layer2 = tf.keras.layers.Dense(10, activation='relu')\n",
    "        self.dense_layer3 = tf.keras.layers.Dense(1, activation='sigmoid')\n",
    "\n",
    "    def transformdata(self,inputs):\n",
    "        trans_data = inputs[\"trans\"]\n",
    "        trans_id = trans_data[\"trans_id\"]\n",
    "        feature_col = config.XGB_FEATURE_COLUMNNAME\n",
    "        tranformer_train = utils.DataTransformer(data=trans_data,feature_colname=feature_col)\n",
    "        data_trans = tranformer_train.transform()\n",
    "        data_trans = pd.concat([trans_id, data_trans],axis=1)\n",
    "        \n",
    "        game_data = inputs[\"games\"]\n",
    "        data_ga_group = game_data.groupby(\"trans_id\")\n",
    "        data_games = pd.DataFrame(columns=[\"trans_id\",\"string\"])\n",
    "        ftmodel = ft.load_model(\"game_embedding_model_ep5.bin\")\n",
    "        for i in data_ga_group[\"trans_id\"]:\n",
    "            group = data_ga_group.get_group(i[0])\n",
    "            group = group[group.columns[~group.columns.isin(config.POP_FEATURE_LIST)]]\n",
    "            group_string = group[group.columns].astype(str).apply(lambda x: ','.join(x), axis = 1)\n",
    "            string=''\n",
    "            for ind in group_string.index:\n",
    "                string = string + group_string[ind]+' '\n",
    "                if ind== group_string.index[-1]:\n",
    "                    string = string + group_string[ind]\n",
    "            vector = ftmodel.get_sentence_vector(string)\n",
    "            d = {'trans_id': [i[0]], 'string': [string]}\n",
    "            his = pd.DataFrame(data=d)\n",
    "            vector=pd.DataFrame(vector).T\n",
    "            his = pd.concat([his,vector],axis=1)\n",
    "\n",
    "            data_games = data_games.append(his)            \n",
    "        data_games = data_games.reset_index()\n",
    "        data_games = data_games.drop(columns=[\"index\",\"string\"])\n",
    "        \n",
    "        transform_inputs = pd.merge(data_trans, data_games, on=\"trans_id\")\n",
    "        transform_inputs = transform_inputs.drop(columns=\"trans_id\")\n",
    "        transform_inputs = transform_inputs[transform_inputs.index.isin(tranformer_train.idx_true)]\n",
    "        transform_inputs_to_tensor=tf.convert_to_tensor(transform_inputs)\n",
    "        \n",
    "        return transform_inputs_to_tensor # trans concat games\n",
    "        \n",
    "    def call(self,inputs):\n",
    "#         transform_inputs = self.transformdata(inputs)\n",
    "\n",
    "        dly1_out = self.dense_layer(inputs)\n",
    "        dly2_out = self.dense_layer2(dly1_out)\n",
    "        out = self.dense_layer3(dly2_out)\n",
    "        \n",
    "        return out"
   ]
  },
  {
   "cell_type": "code",
   "execution_count": null,
   "id": "df881685-5e0a-4983-82ac-329b6b198da0",
   "metadata": {},
   "outputs": [],
   "source": [
    "loss_object = tf.keras.losses.BinaryCrossentropy()\n",
    "ruc = rucmodel()\n",
    "ruc.compile(optimizer='adam',\n",
    "              loss=loss_object,\n",
    "              metrics=['accuracy'])"
   ]
  },
  {
   "cell_type": "code",
   "execution_count": null,
   "id": "b3f791b3-c0e6-49fd-bb14-8aabb6521548",
   "metadata": {},
   "outputs": [],
   "source": [
    "y_train = np.concatenate((np.ones(50), np.zeros(47)), axis=0)"
   ]
  },
  {
   "cell_type": "code",
   "execution_count": null,
   "id": "d97a4dbb-1bbd-481f-97b2-70f4153c0a28",
   "metadata": {},
   "outputs": [],
   "source": [
    "ruc.fit(trans_data, y_train, epochs=30)"
   ]
  },
  {
   "cell_type": "code",
   "execution_count": null,
   "id": "ac87a112-a072-41dc-b43c-0ee16e84d88f",
   "metadata": {},
   "outputs": [],
   "source": [
    "trans_data = ruc.transformdata(rawdata1)"
   ]
  },
  {
   "cell_type": "code",
   "execution_count": null,
   "id": "210f2489-7c42-40d8-9175-9ad561148514",
   "metadata": {},
   "outputs": [],
   "source": [
    "trans_data"
   ]
  },
  {
   "cell_type": "code",
   "execution_count": null,
   "id": "f77f89a9-868e-4669-8996-f582702d0e45",
   "metadata": {},
   "outputs": [],
   "source": [
    "data_to_tensor=tf.convert_to_tensor(trans_data)"
   ]
  },
  {
   "cell_type": "code",
   "execution_count": null,
   "id": "0d8ac514-5b6c-461c-8f18-5c9577ab365c",
   "metadata": {},
   "outputs": [],
   "source": [
    "data_to_tensor"
   ]
  },
  {
   "cell_type": "code",
   "execution_count": null,
   "id": "cc50dca4-c46b-41d1-bd47-39af48a5d30a",
   "metadata": {},
   "outputs": [],
   "source": [
    "feature_col = config.XGB_FEATURE_COLUMNNAME\n",
    "# print(feature_col)\n",
    "tranformer = utils.DataTransformer(data=data,feature_colname=feature_col)\n",
    "tranformer.update_configuration()\n",
    "# print(tranformer_train)\n",
    "data_trans = tranformer.transform()"
   ]
  },
  {
   "cell_type": "code",
   "execution_count": null,
   "id": "3e4531c0-b3e7-4015-a3a6-097aad836164",
   "metadata": {},
   "outputs": [],
   "source": [
    "data_trans.head()"
   ]
  },
  {
   "cell_type": "code",
   "execution_count": null,
   "id": "50fe7a06-4fd3-412d-9498-3bf3b719a6af",
   "metadata": {},
   "outputs": [],
   "source": [
    "a=data.trans_id.unique()"
   ]
  },
  {
   "cell_type": "code",
   "execution_count": null,
   "id": "82486265-fd85-4967-8028-9f6900ed2b56",
   "metadata": {},
   "outputs": [],
   "source": [
    "x = str(a).replace(\"[\",\"(\").replace(\"]\",\")\").replace(\"\\n \",\",\").replace(\" \",\",\")"
   ]
  },
  {
   "cell_type": "code",
   "execution_count": null,
   "id": "00d9f24a-ac69-4004-9d04-e6cd1e144cb9",
   "metadata": {},
   "outputs": [],
   "source": []
  }
 ],
 "metadata": {
  "kernelspec": {
   "display_name": "Python 3",
   "language": "python",
   "name": "python3"
  },
  "language_info": {
   "codemirror_mode": {
    "name": "ipython",
    "version": 3
   },
   "file_extension": ".py",
   "mimetype": "text/x-python",
   "name": "python",
   "nbconvert_exporter": "python",
   "pygments_lexer": "ipython3",
   "version": "3.8.8"
  }
 },
 "nbformat": 4,
 "nbformat_minor": 5
}
